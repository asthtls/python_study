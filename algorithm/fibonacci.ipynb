{
 "cells": [
  {
   "cell_type": "code",
   "execution_count": 1,
   "metadata": {},
   "outputs": [],
   "source": [
    "# 피보나치 수열 python\n",
    "\n",
    "# 피보나치 수열은 첫 번째와 두 번째 숫자를 제외한 모든 숫자가 이전 두 숫자를 합한 숫자를 나열한 수열이다.\n",
    "\n",
    "# ex) 0, 1, 1, 2, 3, 5, 8, 13, 21 ....\n",
    "\n",
    "# fib(n) = fib(n -1) + fib(n - 2) 와 같이 표현 가능\n",
    "\n",
    "# 재귀 함수로 쉽게 구현할 수 있는 의사코드\n"
   ]
  },
  {
   "cell_type": "code",
   "execution_count": 6,
   "metadata": {},
   "outputs": [
    {
     "name": "stdout",
     "output_type": "stream",
     "text": [
      "5\n",
      "55\n"
     ]
    }
   ],
   "source": [
    "def fib(n:int) -> int:\n",
    "    if n < 2: # 기저 조건. 해당 조건은 0과 1은 수열의 이전 두 숫자의 합이 아닌 초깃값이다.\n",
    "        # 재귀함수에서 기저조건이란 : 재귀 함수를 빠져나오는 탈출 조건이다.\n",
    "        return n\n",
    "    return fib(n-2) + fib(n-1) # 재귀 조건 \n",
    "\n",
    "if __name__ == \"__main__\":\n",
    "    print(fib(5)) # 5\n",
    "    print(fib(10)) # 55"
   ]
  },
  {
   "cell_type": "code",
   "execution_count": 9,
   "metadata": {},
   "outputs": [
    {
     "name": "stdout",
     "output_type": "stream",
     "text": [
      "5\n",
      "12586269025\n"
     ]
    }
   ],
   "source": [
    "# 재귀 함수 호출 횟수는 요소 숫자가 증가할수록 너무 크게 증가함\n",
    "# 메모이제이션(memoization)은 계산 작업이 완료되면 결과를 저장하는 기술이다.\n",
    "# 이전에 실행된 같은 계산을 수행할 때 다시 계산하지 않고 저장된 값을 사용할 수 있다.\n",
    "from typing import Dict\n",
    "memo: Dict[int, int] = {0: 0, 1: 1} # 기저 조건\n",
    "\n",
    "def fib(n: int) -> int:\n",
    "    if n not in memo:\n",
    "        memo[n] = fib(n-1) + fib(n-2) # 메모이제이션\n",
    "    return memo[n]\n",
    "\n",
    "if __name__ == \"__main__\":\n",
    "    print(fib(5))\n",
    "    print(fib(50))"
   ]
  },
  {
   "cell_type": "code",
   "execution_count": 11,
   "metadata": {},
   "outputs": [
    {
     "name": "stdout",
     "output_type": "stream",
     "text": [
      "5\n",
      "12586269025\n"
     ]
    }
   ],
   "source": [
    "# 데커레이터\n",
    "from functools import lru_cache # 모든 함수 자동으로 메모이징하는 내장형 데이커레이터\n",
    "\n",
    "@lru_cache(maxsize=None) # maxsize = None 이란 캐시에 제한이 없다는 것을 의미한다.\n",
    "def fib(n: int) -> int:\n",
    "    if n < 2: # 기저 조건\n",
    "        return n \n",
    "    return fib(n-2) + fib(n-1) # 재귀 조건\n",
    "\n",
    "if __name__ == \"__main__\":\n",
    "    print(fib(5))\n",
    "    print(fib(50))"
   ]
  },
  {
   "cell_type": "code",
   "execution_count": 14,
   "metadata": {},
   "outputs": [
    {
     "name": "stdout",
     "output_type": "stream",
     "text": [
      "5\n",
      "12586269025\n"
     ]
    }
   ],
   "source": [
    "# 고전 피보나치 수열 \n",
    "\n",
    "def fib(n: int) -> int:\n",
    "    if n == 0: return n# 특수 조건\n",
    "    last: int = 0 # fib(0)\n",
    "    next: int = 1 # fib(1)\n",
    "    for _ in range(1, n):\n",
    "        last, next = next, last + next\n",
    "    return next\n",
    "\n",
    "if __name__ == \"__main__\":\n",
    "    print(fib(5))\n",
    "    print(fib(50))"
   ]
  },
  {
   "cell_type": "code",
   "execution_count": 16,
   "metadata": {},
   "outputs": [
    {
     "name": "stdout",
     "output_type": "stream",
     "text": [
      "0\n",
      "1\n",
      "1\n",
      "2\n",
      "3\n",
      "5\n",
      "8\n",
      "13\n",
      "21\n",
      "34\n",
      "55\n",
      "89\n",
      "144\n",
      "233\n",
      "377\n",
      "610\n",
      "987\n",
      "1597\n",
      "2584\n",
      "4181\n",
      "6765\n",
      "10946\n",
      "17711\n",
      "28657\n",
      "46368\n",
      "75025\n",
      "121393\n",
      "196418\n",
      "317811\n",
      "514229\n",
      "832040\n",
      "1346269\n",
      "2178309\n",
      "3524578\n",
      "5702887\n",
      "9227465\n",
      "14930352\n",
      "24157817\n",
      "39088169\n",
      "63245986\n",
      "102334155\n",
      "165580141\n",
      "267914296\n",
      "433494437\n",
      "701408733\n",
      "1134903170\n",
      "1836311903\n",
      "2971215073\n",
      "4807526976\n",
      "7778742049\n",
      "12586269025\n"
     ]
    }
   ],
   "source": [
    "# 제네레이터 피보나치 수 \n",
    "# 피보나치 수의 전체 수열을 구하기 \n",
    "from typing import Generator\n",
    "\n",
    "def fib(n: int) -> Generator[int, None, None]:\n",
    "    yield 0 # 특수 조건\n",
    "    if n > 0: yield 1 # 특수조건\n",
    "    last: int = 0 # fib(0)\n",
    "    next: int = 1 # fib(1)\n",
    "    for _ in range(1, n):\n",
    "        last, next = next, last + next\n",
    "        yield next # 제네레이터 핵심 변환문\n",
    "    \n",
    "if __name__ == \"__main__\":\n",
    "    for i in fib(50):\n",
    "        print(i)"
   ]
  }
 ],
 "metadata": {
  "kernelspec": {
   "display_name": "base",
   "language": "python",
   "name": "python3"
  },
  "language_info": {
   "codemirror_mode": {
    "name": "ipython",
    "version": 3
   },
   "file_extension": ".py",
   "mimetype": "text/x-python",
   "name": "python",
   "nbconvert_exporter": "python",
   "pygments_lexer": "ipython3",
   "version": "3.9.13"
  },
  "orig_nbformat": 4,
  "vscode": {
   "interpreter": {
    "hash": "1646194d2237d59938e7f768a3dbf2fa4c261ec509e7ef6d8c998f010511dabc"
   }
  }
 },
 "nbformat": 4,
 "nbformat_minor": 2
}
